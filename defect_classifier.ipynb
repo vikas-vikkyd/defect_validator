{
 "cells": [
  {
   "cell_type": "code",
   "execution_count": 411,
   "id": "5021babd",
   "metadata": {},
   "outputs": [],
   "source": [
    "import json\n",
    "import pandas as pd\n",
    "import numpy as np\n",
    "from sklearn.model_selection import train_test_split\n",
    "import re\n",
    "from tensorflow.keras.preprocessing.text import Tokenizer\n",
    "from tensorflow.keras.preprocessing.sequence import pad_sequences\n",
    "import tensorflow as tf\n",
    "from sklearn.ensemble import RandomForestClassifier\n",
    "from sklearn.metrics import accuracy_score\n",
    "import matplotlib.pyplot as plt\n",
    "import pickle"
   ]
  },
  {
   "cell_type": "markdown",
   "id": "8ed60b83",
   "metadata": {},
   "source": [
    "# Process json Files"
   ]
  },
  {
   "cell_type": "code",
   "execution_count": 412,
   "id": "fe66b1fd",
   "metadata": {},
   "outputs": [],
   "source": [
    "FEATURE_COLUMNS = ['Status', 'Description', 'Comments', 'Priority', 'RootCause', 'Reporter', \n",
    "           'IssueKey', 'Summary', 'Sprint', 'Component', 'Application', 'Assigne']\n",
    "def process_json_file(file_name, FEATURE_COLUMNS):\n",
    "    f = open(file_name)\n",
    "    Status = []\n",
    "    Description = []\n",
    "    Comments = []\n",
    "    Priority = []\n",
    "    RootCause = []\n",
    "    Reporter = []\n",
    "    IssueKey = []\n",
    "    Summary = []\n",
    "    Sprint = []\n",
    "    Component = []\n",
    "    Application = []\n",
    "    Assigne = []\n",
    "    data = json.load(f)\n",
    "    for i in data:\n",
    "        Status.append(i.get(FEATURE_COLUMNS[0], np.nan))\n",
    "        Description.append(i.get(FEATURE_COLUMNS[1], np.nan))\n",
    "        if len(i.get(FEATURE_COLUMNS[2], [])) !=0:\n",
    "            Comments.append(i.get(FEATURE_COLUMNS[2], [np.nan])[0]['body'])\n",
    "        else:\n",
    "            Comments.append(np.nan)\n",
    "        Priority.append(i.get(FEATURE_COLUMNS[3], np.nan))\n",
    "        RootCause.append(i.get(FEATURE_COLUMNS[4], np.nan))\n",
    "        Reporter.append(i.get(FEATURE_COLUMNS[5], np.nan))\n",
    "        IssueKey.append(i.get(FEATURE_COLUMNS[6], np.nan))\n",
    "        Summary.append(i.get(FEATURE_COLUMNS[7], np.nan))\n",
    "        Sprint.append(i.get(FEATURE_COLUMNS[8], np.nan))\n",
    "        Component.append(i.get(FEATURE_COLUMNS[9], np.nan))\n",
    "        Application.append(i.get(FEATURE_COLUMNS[10], np.nan))\n",
    "        Assigne.append(i.get(FEATURE_COLUMNS[11], np.nan))\n",
    "    f.close()\n",
    "    df = pd.DataFrame(data=Status, columns=['Status'])\n",
    "    df['Description'] = Description\n",
    "    df['Comments'] = Comments\n",
    "    df['Priority'] = Priority\n",
    "    df['RootCause'] = RootCause\n",
    "    df['Reporter'] = Reporter\n",
    "    df['IssueKey'] = IssueKey\n",
    "    df['Summary'] = Summary\n",
    "    df['Sprint'] = Sprint\n",
    "    df['Component'] = Component\n",
    "    df['Application'] = Application\n",
    "    df['Assigne'] = Assigne\n",
    "    return df"
   ]
  },
  {
   "cell_type": "code",
   "execution_count": 413,
   "id": "cc730ee6",
   "metadata": {},
   "outputs": [],
   "source": [
    "df_cancelled = process_json_file('cancelled.json', FEATURE_COLUMNS)\n",
    "df_noncancelled = process_json_file('noncancelled.json', FEATURE_COLUMNS)"
   ]
  },
  {
   "cell_type": "markdown",
   "id": "edc59e0d",
   "metadata": {},
   "source": [
    "# Valid Invalid classification"
   ]
  },
  {
   "cell_type": "code",
   "execution_count": 414,
   "id": "80015cd5",
   "metadata": {},
   "outputs": [],
   "source": [
    "df_valid = df_noncancelled.copy()\n",
    "df_valid = df_valid[['Description', 'Priority', 'RootCause', 'Reporter', 'Application']]\n",
    "df_valid['label'] = 1\n",
    "df_invalid = df_cancelled.copy()\n",
    "df_invalid = df_invalid[['Description', 'Priority', 'RootCause', 'Reporter', 'Application']]\n",
    "df_invalid['label'] = 0\n",
    "training_data = pd.concat([df_valid, df_invalid], axis=0)\n",
    "training_data = training_data.sample(frac=1, random_state=1234)"
   ]
  },
  {
   "cell_type": "markdown",
   "id": "631cd7c8",
   "metadata": {},
   "source": [
    "# Cleaning"
   ]
  },
  {
   "cell_type": "code",
   "execution_count": 415,
   "id": "b3434548",
   "metadata": {},
   "outputs": [],
   "source": [
    "stopwords = [\"a\", \"about\", \"above\", \"after\", \"again\", \"against\", \"all\", \"am\", \"an\", \"and\", \"any\", \"are\", \"as\", \"at\",\n",
    "              \"be\", \"because\", \"been\", \"before\", \"being\", \"below\", \"between\", \"both\", \"but\", \"by\", \"could\", \"did\", \"do\",\n",
    "              \"does\", \"doing\", \"down\", \"during\", \"each\", \"few\", \"for\", \"from\", \"further\", \"had\", \"has\", \"have\", \"having\",\n",
    "              \"he\", \"he'd\", \"he'll\", \"he's\", \"her\", \"here\", \"here's\", \"hers\", \"herself\", \"him\", \"himself\", \"his\", \"how\", \"how's\",\n",
    "              \"i\", \"i'd\", \"i'll\", \"i'm\", \"i've\", \"if\", \"in\", \"into\", \"is\", \"it\", \"it's\", \"its\", \"itself\", \"let's\", \"me\", \"more\", \"most\", \"my\",\n",
    "              \"myself\", \"nor\", \"of\", \"on\", \"once\", \"only\", \"or\", \"other\", \"ought\", \"our\", \"ours\", \"ourselves\", \"out\", \"over\", \"own\", \"same\",\n",
    "              \"she\", \"she'd\", \"she'll\", \"she's\", \"should\", \"so\", \"some\", \"such\", \"than\", \"that\", \"that's\", \"the\", \"their\", \"theirs\", \"them\",\n",
    "              \"themselves\", \"then\", \"there\", \"there's\", \"these\", \"they\", \"they'd\", \"they'll\", \"they're\", \"they've\", \"this\", \"those\", \"through\",\n",
    "              \"to\", \"too\", \"under\", \"until\", \"up\", \"very\", \"was\", \"we\", \"we'd\", \"we'll\", \"we're\", \"we've\", \"were\", \"what\", \"what's\", \"when\",\n",
    "              \"when's\", \"where\", \"where's\", \"which\", \"while\", \"who\", \"who's\", \"whom\", \"why\", \"why's\", \"with\", \"would\", \"you\", \"you'd\", \"you'll\",\n",
    "              \"you're\", \"you've\", \"your\", \"yours\", \"yourself\", \"yourselves\"]\n",
    "def clean_description(x):\n",
    "    #x = x.replace(\"\\n\", '').replace(\"\\r\", '').replace(\".\", '').replace(\"*\", ' ').replace(\"*\", ' ')\n",
    "    x = re.sub(\"[!@#$\\r\\n.:0123456789\\t-]\", '', x)\n",
    "    x = x.replace(\"*\", ' ').replace(\",\", ' ').replace(\"[\", '').replace(\"]\", '').replace(\"|\", '')\n",
    "    arr = x.split()\n",
    "    new_arr = [word for word in arr if not word in stopwords]\n",
    "    sentence = ' '.join(word for word in new_arr)\n",
    "    return sentence"
   ]
  },
  {
   "cell_type": "code",
   "execution_count": 416,
   "id": "331d5fb5",
   "metadata": {},
   "outputs": [],
   "source": [
    "training_data['Description'] = training_data['Description'].apply(clean_description)"
   ]
  },
  {
   "cell_type": "markdown",
   "id": "336caac6",
   "metadata": {},
   "source": [
    "# Parameters"
   ]
  },
  {
   "cell_type": "code",
   "execution_count": 417,
   "id": "f5ad617f",
   "metadata": {},
   "outputs": [],
   "source": [
    "num_words = 15000\n",
    "oov_token = '<oov>'\n",
    "#Define Max_len\n",
    "max_len = 0\n",
    "for descr in train_data['Description'].values:\n",
    "    descr_len = len(descr.split())\n",
    "    if descr_len > max_len:\n",
    "        max_len = descr_len\n",
    "#max_len = 700\n",
    "padding = 'pre'\n",
    "truncating = 'pre'\n",
    "embedding_dim = 100"
   ]
  },
  {
   "cell_type": "markdown",
   "id": "3fbafdfc",
   "metadata": {},
   "source": [
    "**Tokeize**"
   ]
  },
  {
   "cell_type": "code",
   "execution_count": 418,
   "id": "e121e8a7",
   "metadata": {},
   "outputs": [],
   "source": [
    "tokenizer = Tokenizer(num_words=num_words, oov_token=oov_token)\n",
    "tokenizer.fit_on_texts(training_data['Description'].values)"
   ]
  },
  {
   "cell_type": "markdown",
   "id": "562fa045",
   "metadata": {},
   "source": [
    "# Data Prep"
   ]
  },
  {
   "cell_type": "code",
   "execution_count": 419,
   "id": "2769776c",
   "metadata": {},
   "outputs": [],
   "source": [
    "train_data = training_data.copy()\n",
    "train_data, test_data = train_test_split(train_data, test_size=0.2)\n",
    "\n",
    "#training_data = train_data\n",
    "train_sentences = train_data['Description'].values\n",
    "train_label = train_data['label'].values\n",
    "\n",
    "test_sentences = test_data['Description'].values\n",
    "test_label = test_data['label'].values\n",
    "\n",
    "#Tokenize\n",
    "train_sequences = tokenizer.texts_to_sequences(train_sentences)\n",
    "test_sequences = tokenizer.texts_to_sequences(test_sentences)\n",
    "\n",
    "#Pad sequences\n",
    "train_padded = pad_sequences(train_sequences, maxlen=max_len, padding=padding, truncating=truncating)\n",
    "test_padded = pad_sequences(test_sequences, maxlen=max_len, padding=padding, truncating=truncating)"
   ]
  },
  {
   "cell_type": "markdown",
   "id": "2d4ee2f3",
   "metadata": {},
   "source": [
    "# Model"
   ]
  },
  {
   "cell_type": "code",
   "execution_count": 420,
   "id": "caa6653f",
   "metadata": {},
   "outputs": [],
   "source": [
    "def all_model(model_type):\n",
    "    if model_type == 'dnn':\n",
    "        inputs = tf.keras.layers.Input(shape=(max_len))\n",
    "        x = tf.keras.layers.Embedding(input_dim=num_words, output_dim=embedding_dim, input_length=max_len)(inputs)\n",
    "        x = tf.keras.layers.GlobalAveragePooling1D()(x)\n",
    "        x = tf.keras.layers.Dense(256, activation='relu')(x)\n",
    "        x = tf.keras.layers.Dropout(0.2)(x)\n",
    "        x = tf.keras.layers.Dense(512, activation='relu')(x)\n",
    "        x = tf.keras.layers.Dropout(0.2)(x)\n",
    "        x = tf.keras.layers.Dense(1024, activation='relu')(x)\n",
    "        #x = tf.keras.layers.Dropout(0.1)(x)\n",
    "        out = tf.keras.layers.Dense(1, activation='sigmoid')(x)\n",
    "    if model_type == 'rnn':\n",
    "        inputs = tf.keras.layers.Input(shape=(max_len))\n",
    "        x = tf.keras.layers.Embedding(input_dim=num_words, output_dim=embedding_dim, input_length=max_len)(inputs)\n",
    "        x = tf.keras.layers.SimpleRNN(64, dropout=0.2)(x)\n",
    "        x = tf.keras.layers.Dense(128, activation='relu')(x)\n",
    "        x = tf.keras.layers.Dropout(0.2)(x)\n",
    "        x = tf.keras.layers.Dense(256, activation='relu')(x)\n",
    "        x = tf.keras.layers.Dropout(0.2)(x)\n",
    "        out = tf.keras.layers.Dense(1, activation='sigmoid')(x)\n",
    "    model = tf.keras.models.Model(inputs=inputs, outputs=out)\n",
    "    return model\n",
    "model = all_model('dnn')\n",
    "optimizer = tf.keras.optimizers.Adam(learning_rate=0.0004)\n",
    "model.compile(optimizer=optimizer, loss='binary_crossentropy', metrics=['accuracy'])\n",
    "#model.summary()"
   ]
  },
  {
   "cell_type": "markdown",
   "id": "0c993cff",
   "metadata": {},
   "source": [
    "# Train"
   ]
  },
  {
   "cell_type": "code",
   "execution_count": 365,
   "id": "48d67231",
   "metadata": {},
   "outputs": [],
   "source": [
    "history = model.fit(train_padded, train_label, validation_data=(test_padded, test_label), batch_size=64, \n",
    "                    epochs=10, verbose=0)"
   ]
  },
  {
   "cell_type": "code",
   "execution_count": 366,
   "id": "9f350d38",
   "metadata": {},
   "outputs": [
    {
     "data": {
      "text/plain": [
       "[<matplotlib.lines.Line2D at 0x7fe9d36135b0>]"
      ]
     },
     "execution_count": 366,
     "metadata": {},
     "output_type": "execute_result"
    },
    {
     "data": {
      "image/png": "[encoded data removed]",
      "text/plain": [
       "<Figure size 720x288 with 1 Axes>"
      ]
     },
     "metadata": {
      "needs_background": "light"
     },
     "output_type": "display_data"
    }
   ],
   "source": [
    "plt.figure(figsize=(10,4))\n",
    "plt.plot(history.history['accuracy'])\n",
    "plt.plot(history.history['val_accuracy'])"
   ]
  },
  {
   "cell_type": "markdown",
   "id": "f7475fa1",
   "metadata": {},
   "source": [
    "# Save Model"
   ]
  },
  {
   "cell_type": "code",
   "execution_count": 397,
   "id": "cb19a320",
   "metadata": {},
   "outputs": [],
   "source": [
    "model.save(\"defect_classifier.h5\")\n",
    "with open('tokenizer.pickle', 'wb') as handle:\n",
    "    pickle.dump(tokenizer, handle, protocol=pickle.HIGHEST_PROTOCOL)"
   ]
  },
  {
   "cell_type": "markdown",
   "id": "09861177",
   "metadata": {},
   "source": [
    "# Prediction"
   ]
  },
  {
   "cell_type": "code",
   "execution_count": 425,
   "id": "b3a78859",
   "metadata": {},
   "outputs": [
    {
     "data": {
      "text/plain": [
       "0.9020759"
      ]
     },
     "execution_count": 425,
     "metadata": {},
     "output_type": "execute_result"
    }
   ],
   "source": [
    "model_loaded = tf.keras.models.load_model('defect_classifier.h5')\n",
    "with open('tokenizer.pickle', 'rb') as handle:\n",
    "    tokenizer_loaded = pickle.load(handle)\n",
    "    \n",
    "pred_seq = tokenizer_loaded.texts_to_sequences([training_data['Description'].values[1]])\n",
    "pred_padded = pad_sequences(pred_seq, maxlen=max_len, padding=padding, truncating=truncating)\n",
    "model_loaded.predict(pred_padded)[0][0]"
   ]
  },
  {
   "cell_type": "code",
   "execution_count": 426,
   "id": "f2b1def1",
   "metadata": {},
   "outputs": [
    {
     "data": {
      "text/plain": [
       "\"We app rejected Apple Please take look summary issues forwarded Apple They also available Apple Store Connect They still running issues logging Please let us know running point We like request keep us updated resolution progress Thank youWe discovered one bugs app reviewed iPad running iOS WiFiSpecifically app returns network error attempt register new account using Sign AppleWe noticed issue app still contributes lower quality user experience Apple users expect Your app uses Sign Apple login option not use Sign Apple button design branding and/or user interface elements appropriately described Sign With Apple Human Interface GuidelinesPS Image provided Appple Regards Begin forwarded messageFrom App Store Connect <no_replyemailapplecom>Subject New Message App Store Review Regarding Virgin VoyagesDate April AM EDTTo luisgonzalezvirginvoyagescom Dear Luis We've sent new message app Virgin Voyages app Apple ID To view reply message go Resolution Center App Store ConnectBest regards App Store Review Picture pngthumbnail\""
      ]
     },
     "execution_count": 426,
     "metadata": {},
     "output_type": "execute_result"
    }
   ],
   "source": [
    "training_data['Description'].values[1]"
   ]
  },
  {
   "cell_type": "code",
   "execution_count": null,
   "id": "23480e73",
   "metadata": {},
   "outputs": [],
   "source": []
  }
 ],
 "metadata": {
  "kernelspec": {
   "display_name": "Python 3",
   "language": "python",
   "name": "python3"
  },
  "language_info": {
   "codemirror_mode": {
    "name": "ipython",
    "version": 3
   },
   "file_extension": ".py",
   "mimetype": "text/x-python",
   "name": "python",
   "nbconvert_exporter": "python",
   "pygments_lexer": "ipython3",
   "version": "3.8.8"
  }
 },
 "nbformat": 4,
 "nbformat_minor": 5
}
