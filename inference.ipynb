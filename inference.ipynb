{
 "cells": [
  {
   "cell_type": "code",
   "execution_count": 1,
   "id": "b219bf90",
   "metadata": {},
   "outputs": [],
   "source": [
    "import numpy as np\n",
    "import tensorflow as tf\n",
    "import pickle\n",
    "import re\n",
    "from tensorflow.keras.preprocessing.sequence import pad_sequences"
   ]
  },
  {
   "cell_type": "markdown",
   "id": "3f1e70cc",
   "metadata": {},
   "source": [
    "# Test Data"
   ]
  },
  {
   "cell_type": "code",
   "execution_count": 14,
   "id": "db7ee8a2",
   "metadata": {},
   "outputs": [],
   "source": [
    "desc1 = \"Steps reproduce Launch url https//qavirginvoyagescom/booking User done voyage selection User \\\n",
    "clicked Choose Cabin User entered access key details Access Key First Name Last Name Email Address click \\\n",
    "continue buttonUser summary pageuser changed currency USD GBP url stringObserve currency Summary page navigate \\\n",
    "confirmation page Expected Result Currency Should not Display GBP currency user not able complete Booking Actual \\\n",
    "Result Currency Displaying GBP currency user able complete booking details reflected saleforce refer attached \\\n",
    "recording\"\n",
    "\n",
    "desc2 = \"We app rejected Apple Please take look summary issues forwarded Apple They also available Apple \\\n",
    "Store Connect They still running issues logging Please let us know running point We like request keep us \\\n",
    "updated resolution progress Thank youWe discovered one bugs app reviewed iPad running iOS WiFiSpecifically \\\n",
    "app returns network error attempt register new account using Sign AppleWe noticed issue app still contributes \\\n",
    "lower quality user experience Apple users expect Your app uses Sign Apple login option not use Sign Apple \\\n",
    "button design branding and/or user interface elements appropriately described Sign With Apple Human \\\n",
    "Interface GuidelinesPS Image provided Appple Regards Begin forwarded messageFrom App Store \\\n",
    "Connect <no_replyemailapplecom>Subject New Message App Store Review Regarding Virgin VoyagesDate \\\n",
    "April AM EDTTo luisgonzalezvirginvoyagescom Dear Luis We've sent new message app Virgin Voyages \\\n",
    "app Apple ID To view reply message go Resolution Center App Store ConnectBest regards App Store \\\n",
    "Review Picture pngthumbnail\""
   ]
  },
  {
   "cell_type": "markdown",
   "id": "57846562",
   "metadata": {},
   "source": [
    "# Utils"
   ]
  },
  {
   "cell_type": "code",
   "execution_count": 15,
   "id": "eee77df2",
   "metadata": {},
   "outputs": [],
   "source": [
    "stopwords = [\"a\", \"about\", \"above\", \"after\", \"again\", \"against\", \"all\", \"am\", \"an\", \"and\", \"any\", \"are\", \"as\", \"at\",\n",
    "              \"be\", \"because\", \"been\", \"before\", \"being\", \"below\", \"between\", \"both\", \"but\", \"by\", \"could\", \"did\", \"do\",\n",
    "              \"does\", \"doing\", \"down\", \"during\", \"each\", \"few\", \"for\", \"from\", \"further\", \"had\", \"has\", \"have\", \"having\",\n",
    "              \"he\", \"he'd\", \"he'll\", \"he's\", \"her\", \"here\", \"here's\", \"hers\", \"herself\", \"him\", \"himself\", \"his\", \"how\", \"how's\",\n",
    "              \"i\", \"i'd\", \"i'll\", \"i'm\", \"i've\", \"if\", \"in\", \"into\", \"is\", \"it\", \"it's\", \"its\", \"itself\", \"let's\", \"me\", \"more\", \"most\", \"my\",\n",
    "              \"myself\", \"nor\", \"of\", \"on\", \"once\", \"only\", \"or\", \"other\", \"ought\", \"our\", \"ours\", \"ourselves\", \"out\", \"over\", \"own\", \"same\",\n",
    "              \"she\", \"she'd\", \"she'll\", \"she's\", \"should\", \"so\", \"some\", \"such\", \"than\", \"that\", \"that's\", \"the\", \"their\", \"theirs\", \"them\",\n",
    "              \"themselves\", \"then\", \"there\", \"there's\", \"these\", \"they\", \"they'd\", \"they'll\", \"they're\", \"they've\", \"this\", \"those\", \"through\",\n",
    "              \"to\", \"too\", \"under\", \"until\", \"up\", \"very\", \"was\", \"we\", \"we'd\", \"we'll\", \"we're\", \"we've\", \"were\", \"what\", \"what's\", \"when\",\n",
    "              \"when's\", \"where\", \"where's\", \"which\", \"while\", \"who\", \"who's\", \"whom\", \"why\", \"why's\", \"with\", \"would\", \"you\", \"you'd\", \"you'll\",\n",
    "              \"you're\", \"you've\", \"your\", \"yours\", \"yourself\", \"yourselves\"]\n",
    "def clean_description(x):\n",
    "    #x = x.replace(\"\\n\", '').replace(\"\\r\", '').replace(\".\", '').replace(\"*\", ' ').replace(\"*\", ' ')\n",
    "    x = re.sub(\"[!@#$\\r\\n.:0123456789\\t-]\", '', x)\n",
    "    x = x.replace(\"*\", ' ').replace(\",\", ' ').replace(\"[\", '').replace(\"]\", '').replace(\"|\", '')\n",
    "    arr = x.split()\n",
    "    new_arr = [word for word in arr if not word in stopwords]\n",
    "    sentence = ' '.join(word for word in new_arr)\n",
    "    return sentence\n",
    "\n",
    "max_len_desc = 1126\n",
    "max_len_desc_reson = 100\n",
    "def get_first_n_words_desc(x):\n",
    "    arr = x.split()\n",
    "    len_x = len(arr)\n",
    "    if len_x < max_len_desc_reson:\n",
    "        return ' '.join(word for word in arr)\n",
    "    else:\n",
    "        new_arr = arr[:max_len_desc_reson]\n",
    "        return ' '.join(word for word in new_arr)"
   ]
  },
  {
   "cell_type": "markdown",
   "id": "ed620e8e",
   "metadata": {},
   "source": [
    "# Load Models"
   ]
  },
  {
   "cell_type": "code",
   "execution_count": 16,
   "id": "bad98948",
   "metadata": {},
   "outputs": [],
   "source": [
    "#Defect Classifier\n",
    "defect_classifier = tf.keras.models.load_model('defect_classifier.h5')\n",
    "with open('tokenizer.pickle', 'rb') as handle:\n",
    "    tokenizer_description = pickle.load(handle)\n",
    "\n",
    "#Reason Generator\n",
    "reason_generator = tf.keras.models.load_model('reason_generator.h5')\n",
    "with open('tokenizer_cancelled.pickle', 'rb') as handle:\n",
    "    tokenizer_cancelled = pickle.load(handle)"
   ]
  },
  {
   "cell_type": "code",
   "execution_count": 20,
   "id": "0e058f7b",
   "metadata": {},
   "outputs": [],
   "source": [
    "def make_inference(description):\n",
    "    #For defect classifier\n",
    "    seq_desc = [clean_description(description)]\n",
    "    seq_desc = tokenizer_description.texts_to_sequences(seq_desc)\n",
    "    seq_desc = pad_sequences(seq_desc, maxlen=max_len_desc, padding='pre', truncating='pre')\n",
    "    probab = defect_classifier.predict(seq_desc)[0][0]\n",
    "\n",
    "    if probab < 0.5:\n",
    "        print(\"Not a Valid Defect\")\n",
    "        print(\"Probability: \", 1-probab)\n",
    "    \n",
    "        #To generate Reason\n",
    "        seq_desc = clean_description(description)\n",
    "        seq_desc = get_first_n_words_desc(seq_desc)\n",
    "        #Generate Next 20 words\n",
    "        seed_text = seq_desc\n",
    "        next_words = 20\n",
    "        word_dict = dict((value, key) for (key, value) in tokenizer_cancelled.word_index.items())\n",
    "        for i in range(next_words):\n",
    "            seed_sentence = [seed_text]\n",
    "            seed_sequence = tokenizer_cancelled.texts_to_sequences(seed_sentence)\n",
    "            if len(seed_sequence[0]) > max_len_desc:\n",
    "                seed_sequence = [list(seed_sequence[0][(len(seed_sequence[0])-max_len_desc_reson):])]\n",
    "            padded_seed_sequence = pad_sequences(seed_sequence, truncating='pre', \n",
    "                                             padding='pre', maxlen=max_len_desc_reson)\n",
    "            seed_text = seed_text + \" \" + word_dict[np.argmax(reason_generator.predict(padded_seed_sequence)[0])]\n",
    "        reason = ' '.join(word for word in seed_text.split()[-20:])\n",
    "        print(\"Reason: \",reason)\n",
    "    else:\n",
    "        print(\"It's a Valid Defect\")\n",
    "        print(\"Probability: \", probab)"
   ]
  },
  {
   "cell_type": "code",
   "execution_count": 21,
   "id": "f09fd479",
   "metadata": {},
   "outputs": [
    {
     "name": "stdout",
     "output_type": "stream",
     "text": [
      "Not a Valid Defect\n",
      "Probability:  0.9975750744342804\n",
      "Reason:  we have a duplicate asap ticket please find the correct notes and blocked to be the issue of metas can\n"
     ]
    }
   ],
   "source": [
    "make_inference(desc1)"
   ]
  },
  {
   "cell_type": "code",
   "execution_count": 22,
   "id": "57e373fe",
   "metadata": {},
   "outputs": [
    {
     "name": "stdout",
     "output_type": "stream",
     "text": [
      "It's a Valid Defect\n",
      "Probability:  0.9020759\n"
     ]
    }
   ],
   "source": [
    "make_inference(desc2)"
   ]
  },
  {
   "cell_type": "code",
   "execution_count": null,
   "id": "b0afc1c9",
   "metadata": {},
   "outputs": [],
   "source": []
  }
 ],
 "metadata": {
  "kernelspec": {
   "display_name": "Python 3",
   "language": "python",
   "name": "python3"
  },
  "language_info": {
   "codemirror_mode": {
    "name": "ipython",
    "version": 3
   },
   "file_extension": ".py",
   "mimetype": "text/x-python",
   "name": "python",
   "nbconvert_exporter": "python",
   "pygments_lexer": "ipython3",
   "version": "3.8.8"
  }
 },
 "nbformat": 4,
 "nbformat_minor": 5
}
